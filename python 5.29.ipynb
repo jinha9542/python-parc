{
 "cells": [
  {
   "cell_type": "markdown",
   "metadata": {},
   "source": [
    "## 입출력"
   ]
  },
  {
   "cell_type": "code",
   "execution_count": 2,
   "metadata": {},
   "outputs": [],
   "source": [
    "import os\n",
    "\n",
    "BASE_DIR = os.getcwd()\n",
    "IO_TEST_DIR = os.path.join(BASE_DIR,'iotest')\n",
    "if not os.path.exists(IO_TEST_DIR):\n",
    "    os.makedirs(IO_TEST_DIR)"
   ]
  },
  {
   "cell_type": "code",
   "execution_count": 3,
   "metadata": {},
   "outputs": [
    {
     "data": {
      "text/plain": [
       "'C:\\\\Users\\\\student\\\\Documents\\\\python project'"
      ]
     },
     "execution_count": 3,
     "metadata": {},
     "output_type": "execute_result"
    }
   ],
   "source": [
    "BASE_DIR"
   ]
  },
  {
   "cell_type": "code",
   "execution_count": 4,
   "metadata": {},
   "outputs": [
    {
     "data": {
      "text/plain": [
       "'C:\\\\Users\\\\student\\\\Documents\\\\python project\\\\iotest'"
      ]
     },
     "execution_count": 4,
     "metadata": {},
     "output_type": "execute_result"
    }
   ],
   "source": [
    "IO_TEST_DIR"
   ]
  },
  {
   "cell_type": "code",
   "execution_count": 5,
   "metadata": {},
   "outputs": [
    {
     "name": "stdout",
     "output_type": "stream",
     "text": [
      "C:\\Users\\student\\Documents\\python project\\iotest\\w_test.txt\n"
     ]
    }
   ],
   "source": [
    "w_test_path = os.path.join(IO_TEST_DIR, 'w_test.txt')\n",
    "print(w_test_path)"
   ]
  },
  {
   "cell_type": "code",
   "execution_count": 8,
   "metadata": {},
   "outputs": [],
   "source": [
    "with open(w_test_path,'w') as f:\n",
    "    f.write(\"hello python\\n\")\n",
    "    f.write(\"testing writing mode May 28th, first attempt\\n\")"
   ]
  },
  {
   "cell_type": "code",
   "execution_count": 13,
   "metadata": {},
   "outputs": [
    {
     "name": "stdout",
     "output_type": "stream",
     "text": [
      "True\n",
      "C:\\Users\\student\\Documents\\python project\\iotest\\a_test.txt\n"
     ]
    }
   ],
   "source": [
    "a_test_path = os.path.join(IO_TEST_DIR, 'a_test.txt')\n",
    "\n",
    "import shutil\n",
    "\n",
    "shutil.copy(w_test_path, a_test_path)\n",
    "\n",
    "print(os.path.exists(a_test_path))\n",
    "print(a_test_path)"
   ]
  },
  {
   "cell_type": "code",
   "execution_count": 15,
   "metadata": {},
   "outputs": [
    {
     "name": "stdout",
     "output_type": "stream",
     "text": [
      "hello python\n",
      "testing writing mode May 28th, first attempthi, testing a mode May 28thhi, testing 'a' mode May 28th\n"
     ]
    }
   ],
   "source": [
    "with open(a_test_path, 'a') as f:\n",
    "    f.write(\"hi, testing 'a' mode May 28th\\n\")\n",
    "\n",
    "with open(a_test_path,'r') as f:\n",
    "    cont = f.read()\n",
    "    print(cont)\n",
    "    f.close()"
   ]
  },
  {
   "cell_type": "markdown",
   "metadata": {},
   "source": [
    "### +modes"
   ]
  },
  {
   "cell_type": "code",
   "execution_count": 18,
   "metadata": {},
   "outputs": [
    {
     "name": "stdout",
     "output_type": "stream",
     "text": [
      "\n"
     ]
    }
   ],
   "source": [
    "w_plus_test_path = os.path.join(IO_TEST_DIR, 'w_plust_test_path.txt')\n",
    "with open(w_plus_test_path, 'w+') as f:\n",
    "    cont = f.read()\n",
    "    print(cont)\n",
    "    f.close()"
   ]
  },
  {
   "cell_type": "code",
   "execution_count": 25,
   "metadata": {},
   "outputs": [],
   "source": [
    "r_plus_test_path = os.path.join(IO_TEST_DIR,'r_plus_test.txt')\n",
    "with open(r_plus_test_path, 'w') as f:\n",
    "    f.write(\"testing r+ mode May 28th\")\n",
    "    f.close()"
   ]
  },
  {
   "cell_type": "code",
   "execution_count": null,
   "metadata": {},
   "outputs": [],
   "source": [
    "f.tell() #seek location or cursor\n",
    "f.seek()"
   ]
  },
  {
   "cell_type": "markdown",
   "metadata": {},
   "source": [
    "## Function"
   ]
  },
  {
   "cell_type": "code",
   "execution_count": 40,
   "metadata": {},
   "outputs": [
    {
     "name": "stdout",
     "output_type": "stream",
     "text": [
      "1 2 3\n",
      "(4, 5, 3)\n",
      "1 2 3\n",
      "(6, 7, 3)\n",
      "1 2 3\n"
     ]
    }
   ],
   "source": [
    "a=1\n",
    "b=2\n",
    "c=3\n",
    "def func1():\n",
    "    a=4\n",
    "    b=5\n",
    "    return a,b,c\n",
    "print(a,b,c)\n",
    "print (func1())\n",
    "print(a,b,c)\n",
    "\n",
    "def func2():\n",
    "    a=6\n",
    "    b=7\n",
    "    func1()\n",
    "    return a,b,c\n",
    "print (func2())\n",
    "print(a,b,c)\n"
   ]
  },
  {
   "cell_type": "code",
   "execution_count": 32,
   "metadata": {},
   "outputs": [
    {
     "name": "stdout",
     "output_type": "stream",
     "text": [
      "[3, 45, 1, 11, 37, 41]\n"
     ]
    }
   ],
   "source": [
    "import random\n",
    "\n",
    "def make_lotto_numbers():\n",
    "    return [random.randint(1,45) for x in range(6)]\n",
    "print(make_lotto_numbers())"
   ]
  },
  {
   "cell_type": "code",
   "execution_count": 55,
   "metadata": {},
   "outputs": [],
   "source": [
    "def calc(a,b):\n",
    "    return (\"add: {}, sub: {}, mul: {}, div: {}\".format(a+b,a-b,a*b,a/b))"
   ]
  },
  {
   "cell_type": "code",
   "execution_count": 58,
   "metadata": {},
   "outputs": [
    {
     "data": {
      "text/plain": [
       "'add: 11, sub: -1, mul: 30, div: 0.8333333333333334'"
      ]
     },
     "execution_count": 58,
     "metadata": {},
     "output_type": "execute_result"
    }
   ],
   "source": [
    "calc(5,6)"
   ]
  },
  {
   "cell_type": "code",
   "execution_count": 63,
   "metadata": {},
   "outputs": [],
   "source": [
    "lis = [1, 2, 3, 1, 4, 2, 1]\n",
    "def allindex(lis, a):\n",
    "    idx = []\n",
    "    for i in range(len(lis)):\n",
    "        if lis[i] == a:\n",
    "            idx.append(i)\n",
    "    return (idx)"
   ]
  },
  {
   "cell_type": "code",
   "execution_count": 97,
   "metadata": {},
   "outputs": [
    {
     "data": {
      "text/plain": [
       "[1, 5]"
      ]
     },
     "execution_count": 97,
     "metadata": {},
     "output_type": "execute_result"
    }
   ],
   "source": [
    "allindex(lis,2)"
   ]
  },
  {
   "cell_type": "code",
   "execution_count": 101,
   "metadata": {},
   "outputs": [],
   "source": [
    "def allindex2(a,b):\n",
    "    return [i for i, x in enumerate(a) if a[i]==b]"
   ]
  },
  {
   "cell_type": "code",
   "execution_count": 102,
   "metadata": {},
   "outputs": [
    {
     "data": {
      "text/plain": [
       "[1, 5]"
      ]
     },
     "execution_count": 102,
     "metadata": {},
     "output_type": "execute_result"
    }
   ],
   "source": [
    "allindex2(lis,2)"
   ]
  },
  {
   "cell_type": "markdown",
   "metadata": {},
   "source": [
    "### Lambda"
   ]
  },
  {
   "cell_type": "code",
   "execution_count": 105,
   "metadata": {},
   "outputs": [],
   "source": [
    "x = lambda x,y: x**y"
   ]
  },
  {
   "cell_type": "code",
   "execution_count": 106,
   "metadata": {},
   "outputs": [
    {
     "data": {
      "text/plain": [
       "81"
      ]
     },
     "execution_count": 106,
     "metadata": {},
     "output_type": "execute_result"
    }
   ],
   "source": [
    "x(3,4)"
   ]
  },
  {
   "cell_type": "code",
   "execution_count": 108,
   "metadata": {},
   "outputs": [
    {
     "name": "stdout",
     "output_type": "stream",
     "text": [
      "1 2 a\n"
     ]
    }
   ],
   "source": [
    "def funt(a,b,c):\n",
    "    print(a,b,c)\n",
    "x=[1,2,'a']\n",
    "funt(*x)"
   ]
  },
  {
   "cell_type": "code",
   "execution_count": 154,
   "metadata": {},
   "outputs": [
    {
     "name": "stdout",
     "output_type": "stream",
     "text": [
      "ex,[1, 2, 3, 4] 5 613 "
     ]
    }
   ],
   "source": [
    "def func(a,*args):\n",
    "    print(a, end=\",\")\n",
    "    for arg in args:\n",
    "        print (arg,end= \" \")\n",
    "func(\"ex\",[1,2,3,4],*[5,613])"
   ]
  },
  {
   "cell_type": "code",
   "execution_count": 167,
   "metadata": {},
   "outputs": [],
   "source": [
    "def func4(name, email = \"outstanding@gmail.com\"):\n",
    "    print(\"name: \", name)\n",
    "    print(\"email: \", email)\n",
    "    \n",
    "    return{\n",
    "        'name': name,\n",
    "        'email': email\n",
    "    }"
   ]
  },
  {
   "cell_type": "code",
   "execution_count": 170,
   "metadata": {},
   "outputs": [
    {
     "name": "stdout",
     "output_type": "stream",
     "text": [
      "name:  rick\n",
      "email:  hello\n"
     ]
    },
    {
     "data": {
      "text/plain": [
       "{'name': 'rick', 'email': 'hello'}"
      ]
     },
     "execution_count": 170,
     "metadata": {},
     "output_type": "execute_result"
    }
   ],
   "source": [
    "func4(\"rick\",\"hello\")"
   ]
  },
  {
   "cell_type": "code",
   "execution_count": 174,
   "metadata": {},
   "outputs": [
    {
     "name": "stdout",
     "output_type": "stream",
     "text": [
      "name:  rick\n",
      "email:  zzz@gmail.com\n"
     ]
    },
    {
     "data": {
      "text/plain": [
       "{'name': 'rick', 'email': 'zzz@gmail.com'}"
      ]
     },
     "execution_count": 174,
     "metadata": {},
     "output_type": "execute_result"
    }
   ],
   "source": [
    "profile = {\n",
    "    'email': 'zzz@gmail.com',\n",
    "    'name': 'rick'\n",
    "}\n",
    "func4(**profile)"
   ]
  },
  {
   "cell_type": "code",
   "execution_count": 177,
   "metadata": {},
   "outputs": [],
   "source": [
    "def func5(**kwargs):\n",
    "    print(type(kwargs))\n",
    "    print(\"-\"*10)\n",
    "    \n",
    "    if kwargs.get('email'):\n",
    "        email = kwargs['email']\n",
    "    else:\n",
    "        email = None\n",
    "    print(\"email: \", kwargs['email'])\n",
    "    print(\"name: \", kwargs.get('name'))\n"
   ]
  },
  {
   "cell_type": "code",
   "execution_count": 178,
   "metadata": {},
   "outputs": [
    {
     "name": "stdout",
     "output_type": "stream",
     "text": [
      "<class 'dict'>\n",
      "----------\n",
      "email:  zzz@gmail.com\n",
      "name:  rick\n"
     ]
    }
   ],
   "source": [
    "func5(name = 'rick', email = 'zzz@gmail.com')"
   ]
  },
  {
   "cell_type": "markdown",
   "metadata": {},
   "source": [
    "### Args"
   ]
  },
  {
   "cell_type": "code",
   "execution_count": 40,
   "metadata": {},
   "outputs": [],
   "source": [
    "def calc(a, *args):\n",
    "    x = \"\"\n",
    "    for arg in args:\n",
    "        x += str(arg)\n",
    "        x += a\n",
    "    return eval(x[:-1])"
   ]
  },
  {
   "cell_type": "code",
   "execution_count": 44,
   "metadata": {},
   "outputs": [
    {
     "data": {
      "text/plain": [
       "19"
      ]
     },
     "execution_count": 44,
     "metadata": {},
     "output_type": "execute_result"
    }
   ],
   "source": [
    "calc(\"+\",2,3,4,5,5)"
   ]
  },
  {
   "cell_type": "code",
   "execution_count": 1,
   "metadata": {},
   "outputs": [],
   "source": [
    "def calc2(*args):\n",
    "    tot = 0\n",
    "    x = []\n",
    "    for arg in args:\n",
    "        x.append(arg)\n",
    "        tot += arg\n",
    "    return \"max is {}, min is {}, avg is {}\".format(max(x),min(x),tot/len(x))"
   ]
  },
  {
   "cell_type": "code",
   "execution_count": 2,
   "metadata": {},
   "outputs": [
    {
     "data": {
      "text/plain": [
       "'max is 1395, min is -24, avg is 344.0'"
      ]
     },
     "execution_count": 2,
     "metadata": {},
     "output_type": "execute_result"
    }
   ],
   "source": [
    "calc2(3,2,-24,1395)"
   ]
  },
  {
   "cell_type": "code",
   "execution_count": 54,
   "metadata": {},
   "outputs": [],
   "source": [
    "def calc2(*args):\n",
    "    return \"max is {}, min is {}\".format(max(*args),min(*args))"
   ]
  },
  {
   "cell_type": "code",
   "execution_count": 55,
   "metadata": {},
   "outputs": [
    {
     "data": {
      "text/plain": [
       "'max is 1395, min is -24'"
      ]
     },
     "execution_count": 55,
     "metadata": {},
     "output_type": "execute_result"
    }
   ],
   "source": [
    "calc2(3,2,-24,1395)"
   ]
  },
  {
   "cell_type": "markdown",
   "metadata": {},
   "source": [
    "# Class"
   ]
  },
  {
   "cell_type": "code",
   "execution_count": 82,
   "metadata": {},
   "outputs": [],
   "source": [
    "class Dog:\n",
    "    def __init__(self,name,color):\n",
    "        self.hungry = 0\n",
    "        self.name = name\n",
    "        self.color = color\n",
    "    def eat(self):\n",
    "        self.hungry -= 10\n",
    "        print(self.name,\"Ate\", \"hunger: {}\".format(self.hungry))\n",
    "    def walk(self):\n",
    "        self.hungry += 10\n",
    "        print(self.name, \"Walk\", \"hunger: {}\".format(self.hungry))\n",
    "    def status(self):\n",
    "        if self.hungry <= 0:\n",
    "            print(\"{} is Full!\".format(self.name))\n",
    "        else:\n",
    "            print(\"{} is Hungry!\".format(self.name))"
   ]
  },
  {
   "cell_type": "code",
   "execution_count": null,
   "metadata": {},
   "outputs": [],
   "source": []
  },
  {
   "cell_type": "code",
   "execution_count": 83,
   "metadata": {},
   "outputs": [
    {
     "name": "stdout",
     "output_type": "stream",
     "text": [
      "choco Ate hunger: -10\n",
      "choco Ate hunger: -20\n",
      "pup Walk hunger: 10\n",
      "choco is Full!\n",
      "pup is Hungry!\n"
     ]
    }
   ],
   "source": [
    "choco = Dog(\"choco\",\"black\")\n",
    "pup = Dog(\"pup\",\"white\")\n",
    "\n",
    "choco.eat()\n",
    "choco.eat()\n",
    "pup.walk()\n",
    "choco.status()\n",
    "pup.status()"
   ]
  },
  {
   "cell_type": "code",
   "execution_count": 123,
   "metadata": {},
   "outputs": [],
   "source": [
    "class Car(object):\n",
    "    total_num = 0\n",
    "    \n",
    "    @staticmethod\n",
    "    def call_119():\n",
    "        return \"119\"\n",
    "    @classmethod\n",
    "    def get_total_car(cls): #put cls instead of self\n",
    "        return cls.total_num\n",
    "    \n",
    "    def __init__(self,model, engine_rank):\n",
    "        self.model = model\n",
    "        self.engine_rank = engine_rank\n",
    "        self.speed = 0\n",
    "        \n",
    "        Car.total_num += 1\n",
    "        \n",
    "    def accel(self):\n",
    "        self.speed += 10\n",
    "        return True\n",
    "    def push_break(self):\n",
    "        self.speed -= 10\n",
    "        return True"
   ]
  },
  {
   "cell_type": "code",
   "execution_count": 141,
   "metadata": {},
   "outputs": [],
   "source": [
    "class BMWCar(Car):\n",
    "    def accel(self):\n",
    "        self.speed += 100\n",
    "    pass"
   ]
  },
  {
   "cell_type": "code",
   "execution_count": 142,
   "metadata": {},
   "outputs": [],
   "source": [
    "my_car = Car(\"Toyota\", \"A\")\n",
    "min_car = Car(\"Toyota\", \"S\")\n",
    "jung_car = Car(\"Toyota\", \"S\")"
   ]
  },
  {
   "cell_type": "code",
   "execution_count": 143,
   "metadata": {},
   "outputs": [
    {
     "name": "stdout",
     "output_type": "stream",
     "text": [
      "0\n",
      "10\n",
      "Toyota\n"
     ]
    }
   ],
   "source": [
    "print(my_car.speed)\n",
    "my_car.accel()\n",
    "print(my_car.speed)\n",
    "print(my_car.model)"
   ]
  },
  {
   "cell_type": "code",
   "execution_count": 144,
   "metadata": {},
   "outputs": [
    {
     "data": {
      "text/plain": [
       "17"
      ]
     },
     "execution_count": 144,
     "metadata": {},
     "output_type": "execute_result"
    }
   ],
   "source": [
    "Car.total_num"
   ]
  },
  {
   "cell_type": "code",
   "execution_count": 145,
   "metadata": {},
   "outputs": [],
   "source": [
    "sec_car = BMWCar(\"BMW\",\"A\")"
   ]
  },
  {
   "cell_type": "code",
   "execution_count": 146,
   "metadata": {},
   "outputs": [
    {
     "name": "stdout",
     "output_type": "stream",
     "text": [
      "0\n",
      "100\n",
      "BMW\n"
     ]
    }
   ],
   "source": [
    "print(sec_car.speed)\n",
    "sec_car.accel()\n",
    "print(sec_car.speed)\n",
    "print(sec_car.model)"
   ]
  },
  {
   "cell_type": "code",
   "execution_count": 147,
   "metadata": {},
   "outputs": [
    {
     "name": "stdout",
     "output_type": "stream",
     "text": [
      "119\n",
      "18\n"
     ]
    }
   ],
   "source": [
    "print(Car.call_119())\n",
    "print(Car.get_total_car())"
   ]
  },
  {
   "cell_type": "code",
   "execution_count": 148,
   "metadata": {},
   "outputs": [
    {
     "data": {
      "text/plain": [
       "['__class__',\n",
       " '__delattr__',\n",
       " '__dict__',\n",
       " '__dir__',\n",
       " '__doc__',\n",
       " '__eq__',\n",
       " '__format__',\n",
       " '__ge__',\n",
       " '__getattribute__',\n",
       " '__gt__',\n",
       " '__hash__',\n",
       " '__init__',\n",
       " '__init_subclass__',\n",
       " '__le__',\n",
       " '__lt__',\n",
       " '__module__',\n",
       " '__ne__',\n",
       " '__new__',\n",
       " '__reduce__',\n",
       " '__reduce_ex__',\n",
       " '__repr__',\n",
       " '__setattr__',\n",
       " '__sizeof__',\n",
       " '__str__',\n",
       " '__subclasshook__',\n",
       " '__weakref__',\n",
       " 'accel',\n",
       " 'call_119',\n",
       " 'get_total_car',\n",
       " 'push_break',\n",
       " 'total_num']"
      ]
     },
     "execution_count": 148,
     "metadata": {},
     "output_type": "execute_result"
    }
   ],
   "source": [
    "dir(Car)"
   ]
  },
  {
   "cell_type": "code",
   "execution_count": 160,
   "metadata": {},
   "outputs": [
    {
     "name": "stdout",
     "output_type": "stream",
     "text": [
      "<class 'type'>\n",
      "2\n"
     ]
    }
   ],
   "source": [
    "class Test:\n",
    "    num = 10\n",
    "    \n",
    "    @classmethod\n",
    "    def add(cls,x,y):\n",
    "        print(type(cls))\n",
    "        return x+y\n",
    "print(Test.add(1,1))"
   ]
  },
  {
   "cell_type": "code",
   "execution_count": null,
   "metadata": {},
   "outputs": [],
   "source": []
  },
  {
   "cell_type": "code",
   "execution_count": null,
   "metadata": {},
   "outputs": [],
   "source": []
  },
  {
   "cell_type": "code",
   "execution_count": null,
   "metadata": {},
   "outputs": [],
   "source": []
  }
 ],
 "metadata": {
  "kernelspec": {
   "display_name": "Python 3",
   "language": "python",
   "name": "python3"
  },
  "language_info": {
   "codemirror_mode": {
    "name": "ipython",
    "version": 3
   },
   "file_extension": ".py",
   "mimetype": "text/x-python",
   "name": "python",
   "nbconvert_exporter": "python",
   "pygments_lexer": "ipython3",
   "version": "3.7.3"
  }
 },
 "nbformat": 4,
 "nbformat_minor": 2
}
