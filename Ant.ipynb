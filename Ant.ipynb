{
 "cells": [
  {
   "cell_type": "code",
   "execution_count": 146,
   "metadata": {},
   "outputs": [],
   "source": [
    "def ant_helper(x):\n",
    "    \n",
    "    s = str(x) + ' '\n",
    "    count = 1\n",
    "    result = ''\n",
    "    \n",
    "    for i in range(len(s)):\n",
    "        if i >= len(s)-1:\n",
    "             break         \n",
    "        if s[i] == s[i+1]:\n",
    "            count += 1\n",
    "            i += 2\n",
    "        else:\n",
    "            result = result + str(s[i]) + str(count)\n",
    "            i += 1\n",
    "            count = 1\n",
    "    return result\n",
    "\n",
    "def ant(s):\n",
    "    a = 1\n",
    "    for x in range(s+1):\n",
    "        if x == s:\n",
    "            print(a)\n",
    "        a = ant_helper(a)"
   ]
  },
  {
   "cell_type": "code",
   "execution_count": 147,
   "metadata": {},
   "outputs": [],
   "source": [
    "# 리스트의 짝수에는 갯수가 들어감, 리스트의 홀수에는 숫자가 들어감 > 리스트의 갯수는 항상 짝수"
   ]
  },
  {
   "cell_type": "code",
   "execution_count": 186,
   "metadata": {},
   "outputs": [
    {
     "name": "stdout",
     "output_type": "stream",
     "text": [
      "112213\n"
     ]
    }
   ],
   "source": [
    "ant(5)"
   ]
  },
  {
   "cell_type": "code",
   "execution_count": null,
   "metadata": {},
   "outputs": [],
   "source": []
  },
  {
   "cell_type": "code",
   "execution_count": 189,
   "metadata": {},
   "outputs": [],
   "source": [
    "def fib(x):\n",
    "    if x == 1 or x == 2:\n",
    "        return 1\n",
    "    return fib(x-1) + fib(x-2)"
   ]
  },
  {
   "cell_type": "code",
   "execution_count": 190,
   "metadata": {},
   "outputs": [
    {
     "data": {
      "text/plain": [
       "8"
      ]
     },
     "execution_count": 190,
     "metadata": {},
     "output_type": "execute_result"
    }
   ],
   "source": [
    "fib(6)"
   ]
  },
  {
   "cell_type": "code",
   "execution_count": 183,
   "metadata": {},
   "outputs": [
    {
     "data": {
      "text/plain": [
       "(1, 1, 2, 3, 5, 8, 13, 21)"
      ]
     },
     "execution_count": 183,
     "metadata": {},
     "output_type": "execute_result"
    }
   ],
   "source": [
    "1,1,2,3,5,8,13,21"
   ]
  },
  {
   "cell_type": "code",
   "execution_count": null,
   "metadata": {},
   "outputs": [],
   "source": []
  }
 ],
 "metadata": {
  "kernelspec": {
   "display_name": "Python 3",
   "language": "python",
   "name": "python3"
  },
  "language_info": {
   "codemirror_mode": {
    "name": "ipython",
    "version": 3
   },
   "file_extension": ".py",
   "mimetype": "text/x-python",
   "name": "python",
   "nbconvert_exporter": "python",
   "pygments_lexer": "ipython3",
   "version": "3.7.3"
  }
 },
 "nbformat": 4,
 "nbformat_minor": 2
}
