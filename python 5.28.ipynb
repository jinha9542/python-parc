{
 "cells": [
  {
   "cell_type": "code",
   "execution_count": null,
   "metadata": {},
   "outputs": [],
   "source": [
    "a = 0\n",
    "tot = 0\n",
    "#while str(a).upper() != 'S':\n",
    "while str(a) != 's' and str(a) != 'S':\n",
    "    tot += int(a)\n",
    "    a = input()\n",
    "print(\"sum is {}\".format(tot))"
   ]
  },
  {
   "cell_type": "code",
   "execution_count": null,
   "metadata": {},
   "outputs": [],
   "source": [
    "# import random\n",
    "# # 1 = s, 2 = r, 3 = p\n",
    "# a = int(input(\"Scissor (1), Rock (2), Paper (3): \"))\n",
    "# uwin, cwin, draw = 0,0,0\n",
    "# while int(a) in range(1,4):\n",
    "#     b = random.randint(1,3)\n",
    "#     if a == 1:\n",
    "#         print(\"user scissor\")\n",
    "#         if a == b:\n",
    "#             print(\"computer scissor: draw\")\n",
    "#             draw += 1\n",
    "#         elif b == 2:\n",
    "#             print (\"computer rock: user lost\")\n",
    "#             cwin += 1\n",
    "#         elif b == 3:\n",
    "#             print (\"computer paper: user win\")\n",
    "#             uwin += 1\n",
    "#     elif a == 2:\n",
    "#         print(\"user rock\")\n",
    "#         if a == b:\n",
    "#             print(\"computer rock: draw\")\n",
    "#             draw += 1\n",
    "#         elif b == 1:\n",
    "#             print(\"computer scissor: user win\")\n",
    "#             uwin += 1\n",
    "#         elif b == 3:\n",
    "#             print(\"computer paper: user lost\")\n",
    "#             cwin += 1\n",
    "#     elif a == 3:\n",
    "#         print (\"user paper\")\n",
    "#         if a == b:\n",
    "#             print(\"computer paper: draw\")\n",
    "#             draw += 1\n",
    "#         elif b == 1:\n",
    "#             print(\"computer scissor: user lost\")\n",
    "#             cwin += 1\n",
    "#         elif b == 2:\n",
    "#             print(\"computer rock: user win\")\n",
    "#             uwin += 1\n",
    "#     a = int(input(\"Scissor (1), Rock (2), Paper (3): \"))\n",
    "\n",
    "# print (\"Game over\")\n",
    "# print (\"User: {}, Computer: {}, draw: {}\".format(uwin,cwin,draw))"
   ]
  },
  {
   "cell_type": "code",
   "execution_count": null,
   "metadata": {},
   "outputs": [],
   "source": []
  },
  {
   "cell_type": "code",
   "execution_count": 3,
   "metadata": {},
   "outputs": [
    {
     "name": "stdout",
     "output_type": "stream",
     "text": [
      "957\n",
      "48479\n"
     ]
    }
   ],
   "source": [
    "import random\n",
    "a = []\n",
    "for i in range(100):\n",
    "    a.append(random.randint(1,1000))\n",
    "print(max(a))\n",
    "print(sum(a))"
   ]
  },
  {
   "cell_type": "code",
   "execution_count": null,
   "metadata": {},
   "outputs": [],
   "source": [
    "dic = dict(abqw='scissor', basd='rock', cqwe='paper')"
   ]
  },
  {
   "cell_type": "code",
   "execution_count": 4,
   "metadata": {},
   "outputs": [
    {
     "data": {
      "text/plain": [
       "139"
      ]
     },
     "execution_count": 4,
     "metadata": {},
     "output_type": "execute_result"
    }
   ],
   "source": [
    "L = [32,4,12,139,134]\n",
    "max(L)"
   ]
  },
  {
   "cell_type": "code",
   "execution_count": 11,
   "metadata": {},
   "outputs": [
    {
     "name": "stdout",
     "output_type": "stream",
     "text": [
      "[100, 110, 120, 130, 140, 110, 121, 132, 143, 154, 120, 132, 144, 156, 168, 130, 143, 156, 169, 182, 140, 154, 168, 182, 196, 150, 165, 180, 195, 210, 160, 176, 192, 208, 224, 170, 187, 204, 221, 238, 180, 198, 216, 234, 252, 190, 209, 228, 247, 266]\n",
      "[42, 43, 44, 45, 46, 47, 48, 43, 44, 45, 46, 47, 48, 49, 44, 45, 46, 47, 48, 49, 50, 45, 46, 47, 48, 49, 50, 51, 46, 47, 48, 49, 50, 51, 52, 47, 48, 49, 50, 51, 52, 53, 48, 49, 50, 51, 52, 53, 54, 49, 50, 51, 52, 53, 54, 55, 50, 51, 52, 53, 54, 55, 56, 51, 52, 53, 54, 55, 56, 57]\n",
      "[(100, 42), (110, 43), (120, 44), (130, 45), (140, 46), (110, 47), (121, 48), (132, 43), (143, 44), (154, 45), (120, 46), (132, 47), (144, 48), (156, 49), (168, 44), (130, 45), (143, 46), (156, 47), (169, 48), (182, 49), (140, 50), (154, 45), (168, 46), (182, 47), (196, 48), (150, 49), (165, 50), (180, 51), (195, 46), (210, 47), (160, 48), (176, 49), (192, 50), (208, 51), (224, 52), (170, 47), (187, 48), (204, 49), (221, 50), (238, 51), (180, 52), (198, 53), (216, 48), (234, 49), (252, 50), (190, 51), (209, 52), (228, 53), (247, 54), (266, 49)]\n"
     ]
    }
   ],
   "source": [
    "a = [i*j for i in range(10,20) for j in range(10,15)]\n",
    "print(a)\n",
    "b = [i+j for i in range(30,40) for j in range(12,19)]\n",
    "print(b)\n",
    "c = list(zip(a,b))\n",
    "print(c)"
   ]
  },
  {
   "cell_type": "code",
   "execution_count": 13,
   "metadata": {},
   "outputs": [
    {
     "name": "stdout",
     "output_type": "stream",
     "text": [
      "{'name': 'tom', 'age': 20, 'address': 'Seoul'}\n",
      "{'name': 'tom', 'age': 20, 'address': 'Seoul'}\n"
     ]
    }
   ],
   "source": [
    "keys = ['name','age','address']\n",
    "users = ['tom',20,'Seoul']\n",
    "\n",
    "user_dict = {keys[i]: users[i] for i in range(0,3)}\n",
    "print(user_dict)\n",
    "dic = dict(zip(keys,users))\n",
    "print(dic)"
   ]
  },
  {
   "cell_type": "code",
   "execution_count": 15,
   "metadata": {},
   "outputs": [
    {
     "name": "stdout",
     "output_type": "stream",
     "text": [
      "[1, 2, 3, 4, 5]\n",
      "(1, 2, 3, 4, 5, 4)\n"
     ]
    }
   ],
   "source": [
    "l1 = [1,2,3]\n",
    "t1 = (1,2,3)\n",
    "\n",
    "l1 += [4,5]\n",
    "print(l1)\n",
    "\n",
    "t1 += (4,5)\n",
    "t1 = t1+ (4,)\n",
    "print (t1)"
   ]
  },
  {
   "cell_type": "code",
   "execution_count": 18,
   "metadata": {},
   "outputs": [
    {
     "name": "stdout",
     "output_type": "stream",
     "text": [
      "['school', 'science', 'mountn']\n"
     ]
    }
   ],
   "source": [
    "word = [\"school\", \"game\", \"piano\", \"science\", \"hotel\", \"mountn\"]\n",
    "L = [x for x in word if len(x)>= 6]\n",
    "print(L)"
   ]
  },
  {
   "cell_type": "code",
   "execution_count": 21,
   "metadata": {},
   "outputs": [
    {
     "name": "stdout",
     "output_type": "stream",
     "text": [
      "[6, 4, 5, 7, 5, 6]\n"
     ]
    }
   ],
   "source": [
    "word = [\"school\", \"game\", \"piano\", \"science\", \"hotel\", \"mountn\"]\n",
    "M = [len(x) for x in word]\n",
    "print(M)"
   ]
  },
  {
   "cell_type": "code",
   "execution_count": 22,
   "metadata": {},
   "outputs": [
    {
     "data": {
      "text/plain": [
       "12"
      ]
     },
     "execution_count": 22,
     "metadata": {},
     "output_type": "execute_result"
    }
   ],
   "source": [
    "(lambda x,y: x+y)(10,2)"
   ]
  },
  {
   "cell_type": "code",
   "execution_count": 92,
   "metadata": {},
   "outputs": [
    {
     "name": "stdout",
     "output_type": "stream",
     "text": [
      "[[20, 60], [120, 200], [300, 420]]\n"
     ]
    }
   ],
   "source": [
    "a = [[10, 20], [30, 40], [50, 60]]\n",
    "b = [[2, 3], [4, 5], [6, 7]]\n",
    "c = [[],[],[]]\n",
    "for i in range(len(a)):\n",
    "    for j in range(len(a[i])):\n",
    "        c[i].extend([a[i][j] * b[i][j]])\n",
    "print(c)"
   ]
  },
  {
   "cell_type": "code",
   "execution_count": 44,
   "metadata": {},
   "outputs": [
    {
     "name": "stdout",
     "output_type": "stream",
     "text": [
      "[[1, 2], [3, 4], [5, 6]]\n"
     ]
    }
   ],
   "source": [
    "a = []\n",
    "b = 1\n",
    "for i in range(3):\n",
    "    line = []\n",
    "    for j in range(2):\n",
    "        line.append(b)\n",
    "        b += 1\n",
    "    a.append(line)\n",
    "print(a)"
   ]
  },
  {
   "cell_type": "code",
   "execution_count": 119,
   "metadata": {},
   "outputs": [
    {
     "name": "stdout",
     "output_type": "stream",
     "text": [
      "[[20, 60], [120, 200], [300, 420]]\n"
     ]
    }
   ],
   "source": [
    "a = [[10, 20], [30, 40], [50, 60]]\n",
    "b = [[2, 3], [4, 5], [6, 7]]\n",
    "c = []\n",
    "\n",
    "for i in range(len(a)):\n",
    "    d = []\n",
    "    for j in range(len(a[i])):\n",
    "        d.append(a[i][j]*b[i][j])\n",
    "    c.append(d)\n",
    "print(c)"
   ]
  },
  {
   "cell_type": "code",
   "execution_count": 125,
   "metadata": {
    "scrolled": true
   },
   "outputs": [
    {
     "data": {
      "text/plain": [
       "[20, 120, 300, 60, 200, 420]"
      ]
     },
     "execution_count": 125,
     "metadata": {},
     "output_type": "execute_result"
    }
   ],
   "source": [
    "a = [[10, 20], [30, 40], [50, 60]]\n",
    "b = [[2, 3], [4, 5], [6, 7]]\n",
    "c = [a[i][j]*b[i][j] for j in range(len(a[i])) for i in range(len(a))]\n",
    "c"
   ]
  },
  {
   "cell_type": "code",
   "execution_count": 127,
   "metadata": {},
   "outputs": [
    {
     "name": "stdout",
     "output_type": "stream",
     "text": [
      "3\n",
      "hello\n",
      "hello\n",
      "hello\n"
     ]
    }
   ],
   "source": [
    "a = int(input())\n",
    "for i in range(a):\n",
    "    print(\"hello\")\n",
    "    if i==a:\n",
    "        break"
   ]
  },
  {
   "cell_type": "code",
   "execution_count": 130,
   "metadata": {},
   "outputs": [
    {
     "name": "stdout",
     "output_type": "stream",
     "text": [
      "9\n",
      "2\n",
      "4\n",
      "6\n",
      "8\n"
     ]
    }
   ],
   "source": [
    "b = int(input())\n",
    "for i in range(1,b):\n",
    "    if i%2 ==1:\n",
    "        continue\n",
    "    print(i)"
   ]
  },
  {
   "cell_type": "code",
   "execution_count": 131,
   "metadata": {},
   "outputs": [
    {
     "name": "stdout",
     "output_type": "stream",
     "text": [
      "제 이름은 윤수 입니다.\n"
     ]
    }
   ],
   "source": [
    "print(\"제 이름은 %s 입니다.\" %\"윤수\")"
   ]
  },
  {
   "cell_type": "code",
   "execution_count": 132,
   "metadata": {},
   "outputs": [],
   "source": [
    "f = open(\"file.txt\",'w')\n",
    "f.write(\"this is my file\")\n",
    "f.close()"
   ]
  },
  {
   "cell_type": "code",
   "execution_count": 134,
   "metadata": {},
   "outputs": [
    {
     "name": "stdout",
     "output_type": "stream",
     "text": [
      "this is my file\n"
     ]
    }
   ],
   "source": [
    "f = open(\"file.txt\",'r')\n",
    "cont = f.read()\n",
    "print(cont)\n",
    "f.close()"
   ]
  },
  {
   "cell_type": "code",
   "execution_count": 135,
   "metadata": {},
   "outputs": [],
   "source": [
    "target_str = \"\"\"hello\"\"\"\n",
    "f = open(\"second_file.txt\",'w')\n",
    "f.write(target_str)\n",
    "f.close()"
   ]
  },
  {
   "cell_type": "code",
   "execution_count": 136,
   "metadata": {},
   "outputs": [
    {
     "name": "stdout",
     "output_type": "stream",
     "text": [
      "hello\n"
     ]
    }
   ],
   "source": [
    "f = open(\"second_file.txt\",'r')\n",
    "cont = f.read()\n",
    "print(cont)\n",
    "f.close()"
   ]
  },
  {
   "cell_type": "code",
   "execution_count": 140,
   "metadata": {},
   "outputs": [],
   "source": [
    "f = open(\"hello.txt\",'a+')\n",
    "# w = wt (t is default value), w+ -> write and read\n",
    "txt_file = f.write(\"hello world\\nhello\")\n",
    "f.close()\n"
   ]
  },
  {
   "cell_type": "code",
   "execution_count": 141,
   "metadata": {},
   "outputs": [],
   "source": [
    "with open(\"third_file.txt\",'w') as f:\n",
    "    f.write(\"\"\"파일입니다 ㅋㅋ\"\"\")"
   ]
  },
  {
   "cell_type": "code",
   "execution_count": 142,
   "metadata": {},
   "outputs": [],
   "source": [
    "lines = ['file.\\n',\n",
    "        'hello\\n',\n",
    "        'this']\n",
    "with open(\"write_ex.txt\",'w') as f:\n",
    "    f.writelines(lines)"
   ]
  },
  {
   "cell_type": "code",
   "execution_count": null,
   "metadata": {},
   "outputs": [],
   "source": []
  }
 ],
 "metadata": {
  "kernelspec": {
   "display_name": "Python 3",
   "language": "python",
   "name": "python3"
  },
  "language_info": {
   "codemirror_mode": {
    "name": "ipython",
    "version": 3
   },
   "file_extension": ".py",
   "mimetype": "text/x-python",
   "name": "python",
   "nbconvert_exporter": "python",
   "pygments_lexer": "ipython3",
   "version": "3.7.3"
  }
 },
 "nbformat": 4,
 "nbformat_minor": 2
}
