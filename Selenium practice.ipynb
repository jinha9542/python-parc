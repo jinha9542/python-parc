{
 "cells": [
  {
   "cell_type": "markdown",
   "metadata": {},
   "source": [
    "### Selenium prac"
   ]
  },
  {
   "cell_type": "code",
   "execution_count": 5,
   "metadata": {},
   "outputs": [],
   "source": [
    "from selenium import webdriver"
   ]
  },
  {
   "cell_type": "code",
   "execution_count": 8,
   "metadata": {},
   "outputs": [],
   "source": [
    "driver_path = \"C:\\\\Users\\\\student\\\\Downloads\\\\chromedriver_win32\\\\chromedriver.exe\"\n",
    "driver = webdriver.Chrome(driver_path)"
   ]
  },
  {
   "cell_type": "code",
   "execution_count": 9,
   "metadata": {},
   "outputs": [
    {
     "data": {
      "text/plain": [
       "<selenium.webdriver.chrome.webdriver.WebDriver (session=\"ba31ff6dcab9b9b46785f606ded7bf4d\")>"
      ]
     },
     "execution_count": 9,
     "metadata": {},
     "output_type": "execute_result"
    }
   ],
   "source": [
    "driver"
   ]
  },
  {
   "cell_type": "code",
   "execution_count": 29,
   "metadata": {},
   "outputs": [],
   "source": [
    "driver.get(\"https://www.naver.com\")"
   ]
  },
  {
   "cell_type": "code",
   "execution_count": 30,
   "metadata": {},
   "outputs": [
    {
     "data": {
      "text/plain": [
       "<selenium.webdriver.remote.webelement.WebElement (session=\"ba31ff6dcab9b9b46785f606ded7bf4d\", element=\"0.7067566091400315-1\")>"
      ]
     },
     "execution_count": 30,
     "metadata": {},
     "output_type": "execute_result"
    }
   ],
   "source": [
    "webtoon_elem = driver.find_element_by_xpath('//*[@id=\"PM_ID_serviceNavi\"]/li[9]/a')\n",
    "webtoon_elem"
   ]
  },
  {
   "cell_type": "code",
   "execution_count": 31,
   "metadata": {},
   "outputs": [],
   "source": [
    "webtoon_elem.click()"
   ]
  },
  {
   "cell_type": "code",
   "execution_count": 32,
   "metadata": {},
   "outputs": [
    {
     "data": {
      "text/plain": [
       "<selenium.webdriver.remote.webelement.WebElement (session=\"ba31ff6dcab9b9b46785f606ded7bf4d\", element=\"0.5408399436731111-1\")>"
      ]
     },
     "execution_count": 32,
     "metadata": {},
     "output_type": "execute_result"
    }
   ],
   "source": [
    "login_btn = driver.find_element_by_xpath('//*[@id=\"gnb_login_button\"]')\n",
    "login_btn"
   ]
  },
  {
   "cell_type": "code",
   "execution_count": 33,
   "metadata": {},
   "outputs": [],
   "source": [
    "login_btn.click()"
   ]
  },
  {
   "cell_type": "code",
   "execution_count": 34,
   "metadata": {},
   "outputs": [],
   "source": [
    "id_input = driver.find_element_by_xpath('//*[@id=\"id\"]')\n",
    "pwd_input = driver.find_element_by_xpath('//*[@id=\"pw\"]')"
   ]
  },
  {
   "cell_type": "code",
   "execution_count": 35,
   "metadata": {},
   "outputs": [],
   "source": [
    "id_input.send_keys(\"jinha9542\")\n",
    "pwd_input.send_keys(\"wlsgk0314!\")"
   ]
  },
  {
   "cell_type": "code",
   "execution_count": 36,
   "metadata": {},
   "outputs": [],
   "source": [
    "driver.get(\"https://www.naver.com\")"
   ]
  },
  {
   "cell_type": "code",
   "execution_count": 37,
   "metadata": {},
   "outputs": [],
   "source": [
    "naver_real_estate = driver.find_element_by_xpath('//*[@id=\"PM_ID_serviceNavi\"]/li[4]/a')"
   ]
  },
  {
   "cell_type": "code",
   "execution_count": 38,
   "metadata": {},
   "outputs": [],
   "source": [
    "naver_real_estate.click()"
   ]
  },
  {
   "cell_type": "code",
   "execution_count": 39,
   "metadata": {},
   "outputs": [],
   "source": [
    "driver.get(\"https://www.naver.com\")"
   ]
  },
  {
   "cell_type": "markdown",
   "metadata": {},
   "source": [
    "### Find by class, id, text, tagname"
   ]
  },
  {
   "cell_type": "code",
   "execution_count": 41,
   "metadata": {},
   "outputs": [
    {
     "data": {
      "text/plain": [
       "<selenium.webdriver.remote.webelement.WebElement (session=\"ba31ff6dcab9b9b46785f606ded7bf4d\", element=\"0.3935363886283232-1\")>"
      ]
     },
     "execution_count": 41,
     "metadata": {},
     "output_type": "execute_result"
    }
   ],
   "source": [
    "elem = driver.find_element_by_class_name('an_l')\n",
    "elem"
   ]
  },
  {
   "cell_type": "code",
   "execution_count": 44,
   "metadata": {},
   "outputs": [
    {
     "data": {
      "text/plain": [
       "'an_l'"
      ]
     },
     "execution_count": 44,
     "metadata": {},
     "output_type": "execute_result"
    }
   ],
   "source": [
    "elem.get_attribute('class')"
   ]
  },
  {
   "cell_type": "code",
   "execution_count": 45,
   "metadata": {},
   "outputs": [
    {
     "data": {
      "text/plain": [
       "'메일\\n카페\\n블로그\\n지식인\\n쇼핑\\n네이버페이\\n네이버TV'"
      ]
     },
     "execution_count": 45,
     "metadata": {},
     "output_type": "execute_result"
    }
   ],
   "source": [
    "elem.text"
   ]
  },
  {
   "cell_type": "code",
   "execution_count": 51,
   "metadata": {},
   "outputs": [
    {
     "data": {
      "text/plain": [
       "[{'link': 'an_a mn_mail', 'text': '메일'},\n",
       " {'link': 'an_a mn_cafe', 'text': '카페'},\n",
       " {'link': 'an_a mn_blog', 'text': '블로그'},\n",
       " {'link': 'an_a mn_kin', 'text': '지식인'},\n",
       " {'link': 'an_a mn_shopping', 'text': '쇼핑'},\n",
       " {'link': 'an_a mn_checkout', 'text': '네이버페이'},\n",
       " {'link': 'an_a mn_tvcast', 'text': '네이버TV'},\n",
       " {'link': 'an_a mn_dic', 'text': '사전'},\n",
       " {'link': 'an_a mn_news', 'text': '뉴스'},\n",
       " {'link': 'an_a mn_stock', 'text': '증권(금융)'},\n",
       " {'link': 'an_a mn_land', 'text': '부동산'},\n",
       " {'link': 'an_a mn_map', 'text': '지도'},\n",
       " {'link': 'an_a mn_movie', 'text': '영화'},\n",
       " {'link': 'an_a mn_music', 'text': '뮤직'},\n",
       " {'link': 'an_a mn_book', 'text': '책'},\n",
       " {'link': 'an_a mn_comic', 'text': '만화 / 웹툰'}]"
      ]
     },
     "execution_count": 51,
     "metadata": {},
     "output_type": "execute_result"
    }
   ],
   "source": [
    "li_elem = driver.find_elements_by_class_name('an_item')\n",
    "li_list = []\n",
    "for li in li_elem:\n",
    "    try:\n",
    "        li_list.append({\n",
    "            'link': li.find_element_by_class_name('an_a').get_attribute('class'),\n",
    "            'text': li.text\n",
    "        })\n",
    "    except:\n",
    "        pass\n",
    "li_list"
   ]
  },
  {
   "cell_type": "code",
   "execution_count": 53,
   "metadata": {},
   "outputs": [
    {
     "data": {
      "text/plain": [
       "<selenium.webdriver.remote.webelement.WebElement (session=\"ba31ff6dcab9b9b46785f606ded7bf4d\", element=\"0.9963425376638793-1\")>"
      ]
     },
     "execution_count": 53,
     "metadata": {},
     "output_type": "execute_result"
    }
   ],
   "source": [
    "elem = driver.find_element_by_id('PM_ID_serviceNavi')\n",
    "elem"
   ]
  },
  {
   "cell_type": "code",
   "execution_count": 54,
   "metadata": {},
   "outputs": [
    {
     "data": {
      "text/plain": [
       "'사전\\n뉴스\\n증권(금융)\\n부동산\\n지도\\n영화\\n뮤직\\n책\\n만화 / 웹툰'"
      ]
     },
     "execution_count": 54,
     "metadata": {},
     "output_type": "execute_result"
    }
   ],
   "source": [
    "elem.text"
   ]
  },
  {
   "cell_type": "code",
   "execution_count": 55,
   "metadata": {},
   "outputs": [
    {
     "data": {
      "text/plain": [
       "[<selenium.webdriver.remote.webelement.WebElement (session=\"ba31ff6dcab9b9b46785f606ded7bf4d\", element=\"0.9963425376638793-1\")>]"
      ]
     },
     "execution_count": 55,
     "metadata": {},
     "output_type": "execute_result"
    }
   ],
   "source": [
    "li_elem2 = driver.find_elements_by_id('PM_ID_serviceNavi')\n",
    "li_elem2"
   ]
  },
  {
   "cell_type": "code",
   "execution_count": 56,
   "metadata": {},
   "outputs": [
    {
     "data": {
      "text/plain": [
       "<selenium.webdriver.remote.webelement.WebElement (session=\"ba31ff6dcab9b9b46785f606ded7bf4d\", element=\"0.9963425376638793-2\")>"
      ]
     },
     "execution_count": 56,
     "metadata": {},
     "output_type": "execute_result"
    }
   ],
   "source": [
    "login_elem = driver.find_element_by_link_text('NAVER 로그인')\n",
    "login_elem"
   ]
  },
  {
   "cell_type": "code",
   "execution_count": 58,
   "metadata": {},
   "outputs": [
    {
     "data": {
      "text/plain": [
       "'NAVER 로그인'"
      ]
     },
     "execution_count": 58,
     "metadata": {},
     "output_type": "execute_result"
    }
   ],
   "source": [
    "login_elem.text"
   ]
  },
  {
   "cell_type": "code",
   "execution_count": 59,
   "metadata": {},
   "outputs": [
    {
     "data": {
      "text/plain": [
       "[<selenium.webdriver.remote.webelement.WebElement (session=\"ba31ff6dcab9b9b46785f606ded7bf4d\", element=\"0.9963425376638793-2\")>]"
      ]
     },
     "execution_count": 59,
     "metadata": {},
     "output_type": "execute_result"
    }
   ],
   "source": [
    "login_elem2 = driver.find_elements_by_link_text('NAVER 로그인')\n",
    "login_elem2"
   ]
  },
  {
   "cell_type": "code",
   "execution_count": 62,
   "metadata": {},
   "outputs": [
    {
     "data": {
      "text/plain": [
       "<selenium.webdriver.remote.webelement.WebElement (session=\"ba31ff6dcab9b9b46785f606ded7bf4d\", element=\"0.9963425376638793-3\")>"
      ]
     },
     "execution_count": 62,
     "metadata": {},
     "output_type": "execute_result"
    }
   ],
   "source": [
    "h3_tag = driver.find_element_by_tag_name('h3')\n",
    "h3_tag"
   ]
  },
  {
   "cell_type": "code",
   "execution_count": 64,
   "metadata": {},
   "outputs": [
    {
     "data": {
      "text/plain": [
       "[<selenium.webdriver.remote.webelement.WebElement (session=\"ba31ff6dcab9b9b46785f606ded7bf4d\", element=\"0.9963425376638793-3\")>,\n",
       " <selenium.webdriver.remote.webelement.WebElement (session=\"ba31ff6dcab9b9b46785f606ded7bf4d\", element=\"0.9963425376638793-4\")>,\n",
       " <selenium.webdriver.remote.webelement.WebElement (session=\"ba31ff6dcab9b9b46785f606ded7bf4d\", element=\"0.9963425376638793-5\")>,\n",
       " <selenium.webdriver.remote.webelement.WebElement (session=\"ba31ff6dcab9b9b46785f606ded7bf4d\", element=\"0.9963425376638793-6\")>,\n",
       " <selenium.webdriver.remote.webelement.WebElement (session=\"ba31ff6dcab9b9b46785f606ded7bf4d\", element=\"0.9963425376638793-7\")>,\n",
       " <selenium.webdriver.remote.webelement.WebElement (session=\"ba31ff6dcab9b9b46785f606ded7bf4d\", element=\"0.9963425376638793-8\")>,\n",
       " <selenium.webdriver.remote.webelement.WebElement (session=\"ba31ff6dcab9b9b46785f606ded7bf4d\", element=\"0.9963425376638793-9\")>,\n",
       " <selenium.webdriver.remote.webelement.WebElement (session=\"ba31ff6dcab9b9b46785f606ded7bf4d\", element=\"0.9963425376638793-10\")>,\n",
       " <selenium.webdriver.remote.webelement.WebElement (session=\"ba31ff6dcab9b9b46785f606ded7bf4d\", element=\"0.9963425376638793-11\")>,\n",
       " <selenium.webdriver.remote.webelement.WebElement (session=\"ba31ff6dcab9b9b46785f606ded7bf4d\", element=\"0.9963425376638793-12\")>,\n",
       " <selenium.webdriver.remote.webelement.WebElement (session=\"ba31ff6dcab9b9b46785f606ded7bf4d\", element=\"0.9963425376638793-13\")>,\n",
       " <selenium.webdriver.remote.webelement.WebElement (session=\"ba31ff6dcab9b9b46785f606ded7bf4d\", element=\"0.9963425376638793-14\")>,\n",
       " <selenium.webdriver.remote.webelement.WebElement (session=\"ba31ff6dcab9b9b46785f606ded7bf4d\", element=\"0.9963425376638793-15\")>,\n",
       " <selenium.webdriver.remote.webelement.WebElement (session=\"ba31ff6dcab9b9b46785f606ded7bf4d\", element=\"0.9963425376638793-16\")>,\n",
       " <selenium.webdriver.remote.webelement.WebElement (session=\"ba31ff6dcab9b9b46785f606ded7bf4d\", element=\"0.9963425376638793-17\")>,\n",
       " <selenium.webdriver.remote.webelement.WebElement (session=\"ba31ff6dcab9b9b46785f606ded7bf4d\", element=\"0.9963425376638793-18\")>]"
      ]
     },
     "execution_count": 64,
     "metadata": {},
     "output_type": "execute_result"
    }
   ],
   "source": [
    "h3_tag2 = driver.find_elements_by_tag_name('h3')\n",
    "h3_tag2"
   ]
  },
  {
   "cell_type": "code",
   "execution_count": null,
   "metadata": {},
   "outputs": [],
   "source": []
  },
  {
   "cell_type": "code",
   "execution_count": null,
   "metadata": {},
   "outputs": [],
   "source": []
  },
  {
   "cell_type": "code",
   "execution_count": null,
   "metadata": {},
   "outputs": [],
   "source": []
  },
  {
   "cell_type": "markdown",
   "metadata": {},
   "source": [
    "### Image file downloading"
   ]
  },
  {
   "cell_type": "code",
   "execution_count": 20,
   "metadata": {},
   "outputs": [],
   "source": [
    "import requests\n",
    "from bs4 import BeautifulSoup"
   ]
  },
  {
   "cell_type": "code",
   "execution_count": 65,
   "metadata": {},
   "outputs": [],
   "source": [
    "img_url = 'https://shared-comic.pstatic.net/thumb/webtoon/670144/thumbnail/title_thumbnail_20151230192753_t83x90.jpg'\n",
    "resp = requests.get(img_url)"
   ]
  },
  {
   "cell_type": "code",
   "execution_count": 25,
   "metadata": {},
   "outputs": [
    {
     "data": {
      "text/plain": [
       "'title_thumbnail_20151230192753_t83x90.jpg'"
      ]
     },
     "execution_count": 25,
     "metadata": {},
     "output_type": "execute_result"
    }
   ],
   "source": [
    "filename = img_url.split('/')[-1]\n",
    "filename"
   ]
  },
  {
   "cell_type": "code",
   "execution_count": 28,
   "metadata": {},
   "outputs": [],
   "source": [
    "with open(filename, 'wb') as f:\n",
    "    f.write(resp.content)"
   ]
  },
  {
   "cell_type": "code",
   "execution_count": null,
   "metadata": {},
   "outputs": [],
   "source": []
  },
  {
   "cell_type": "code",
   "execution_count": null,
   "metadata": {},
   "outputs": [],
   "source": []
  },
  {
   "cell_type": "code",
   "execution_count": null,
   "metadata": {},
   "outputs": [],
   "source": []
  },
  {
   "cell_type": "code",
   "execution_count": null,
   "metadata": {},
   "outputs": [],
   "source": []
  },
  {
   "cell_type": "code",
   "execution_count": null,
   "metadata": {},
   "outputs": [],
   "source": []
  },
  {
   "cell_type": "code",
   "execution_count": null,
   "metadata": {},
   "outputs": [],
   "source": []
  }
 ],
 "metadata": {
  "kernelspec": {
   "display_name": "Python 3",
   "language": "python",
   "name": "python3"
  },
  "language_info": {
   "codemirror_mode": {
    "name": "ipython",
    "version": 3
   },
   "file_extension": ".py",
   "mimetype": "text/x-python",
   "name": "python",
   "nbconvert_exporter": "python",
   "pygments_lexer": "ipython3",
   "version": "3.7.3"
  }
 },
 "nbformat": 4,
 "nbformat_minor": 2
}
