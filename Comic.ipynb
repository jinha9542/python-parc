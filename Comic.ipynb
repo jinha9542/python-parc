{
 "cells": [
  {
   "cell_type": "code",
   "execution_count": 307,
   "metadata": {},
   "outputs": [],
   "source": [
    "import requests\n",
    "from bs4 import BeautifulSoup\n",
    "import os\n",
    "from selenium import webdriver\n",
    "from urllib import parse\n",
    "import datetime\n",
    "import shutil"
   ]
  },
  {
   "cell_type": "code",
   "execution_count": 325,
   "metadata": {},
   "outputs": [],
   "source": [
    "comic_url = 'https://comic.naver.com/webtoon/weekdayList.nhn'\n",
    "weeks = ['mon','tue','wed','thu','fri','sat','sun']\n",
    "params = {\n",
    "    'week' : 'tue'\n",
    "   }\n",
    "    \n",
    "comic_resp = requests.get(comic_url,params)\n",
    "soup = BeautifulSoup(comic_resp.content)"
   ]
  },
  {
   "cell_type": "code",
   "execution_count": 331,
   "metadata": {},
   "outputs": [
    {
     "name": "stdout",
     "output_type": "stream",
     "text": [
      "C:\\Users\\student\\Documents\\python project\n"
     ]
    }
   ],
   "source": [
    "# creating dir\n",
    "td = datetime.datetime.now()\n",
    "str_date = td.strftime(\"%Y-%m-%d\")\n",
    "png_dir = 'C:\\\\Users\\\\student\\\\Documents\\\\python project\\\\' + str_date\n",
    "if not os.path.isdir(png_dir):\n",
    "    os.mkdir(png_dir)\n",
    "print(os.getcwd())"
   ]
  },
  {
   "cell_type": "code",
   "execution_count": null,
   "metadata": {},
   "outputs": [],
   "source": [
    "def get_clip(url):\n",
    "    driver_path = \"C:\\\\Users\\\\student\\\\Downloads\\\\chromedriver_win32\\\\chromedriver.exe\"\n",
    "    driver = webdriver.Chrome(driver_path)\n",
    "    driver.implicitly_wait(10)\n",
    "\n",
    "    driver.get(url)\n",
    "    driver.maximize_window()\n",
    "    driver.get_screenshot_as_png()\n",
    "    driver.save_screenshot('testing.png')"
   ]
  },
  {
   "cell_type": "code",
   "execution_count": 323,
   "metadata": {},
   "outputs": [],
   "source": [
    "daily_rank3 = []\n",
    "for i in range(3):\n",
    "    webtoon_title = soup.find(class_ ='img_list').li.div.a['title']\n",
    "\n",
    "    daily_rank3.append(soup.find(class_ = 'img_list').find_all('li')[i].a['href'])\n",
    "    addr = 'https://comic.naver.com/' + daily_rank3[i] \n",
    "    indiv_comic_resp = requests.get(addr)\n",
    "    indiv_soup = BeautifulSoup(indiv_comic_resp.content)\n",
    "\n",
    "    recent_url = indiv_soup.find(class_ = 'title').a['href']\n",
    "    addr2 = 'https://comic.naver.com' + recent_url\n",
    "    recent_resp = requests.get(addr2)\n",
    "\n",
    "    query = parse.urlparse(addr2)\n",
    "    titleId = parse.parse_qs(query.query)['titleId'][0]\n",
    "    no = parse.parse_qs(query.query)['no'][0]\n",
    "\n",
    "    comment_url = 'https://comic.naver.com/comment/comment.nhn?'\n",
    "    params = {\n",
    "        'titleId' : titleId,\n",
    "        'no' : no\n",
    "    }\n",
    "    comment_resp = requests.get(comment_url, params)\n",
    "    comment_soup = BeautifulSoup(comment_resp.content)\n",
    "\n",
    "    #utilizing selenium to pop up comments page\n",
    "    get_clip(comment_resp.url)\n",
    "    os.rename('testing.png','{}.png'.format(webtoon_title))\n",
    "    shutil.move('{}.png'.format(webtoon_title), str_date)"
   ]
  }
 ],
 "metadata": {
  "kernelspec": {
   "display_name": "Python 3",
   "language": "python",
   "name": "python3"
  },
  "language_info": {
   "codemirror_mode": {
    "name": "ipython",
    "version": 3
   },
   "file_extension": ".py",
   "mimetype": "text/x-python",
   "name": "python",
   "nbconvert_exporter": "python",
   "pygments_lexer": "ipython3",
   "version": "3.7.3"
  }
 },
 "nbformat": 4,
 "nbformat_minor": 2
}
